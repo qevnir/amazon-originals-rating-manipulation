{
 "cells": [
  {
   "cell_type": "code",
   "execution_count": 1,
   "id": "06f0bac1",
   "metadata": {},
   "outputs": [],
   "source": [
    "import pandas as pd"
   ]
  },
  {
   "cell_type": "code",
   "execution_count": 2,
   "id": "4d62a2bd",
   "metadata": {},
   "outputs": [
    {
     "name": "stderr",
     "output_type": "stream",
     "text": [
      "/tmp/ipykernel_80522/2444730534.py:2: DtypeWarning: Columns (4) have mixed types. Specify dtype option on import or set low_memory=False.\n",
      "  df = pd.read_csv(\"data/imdb/title_basic.tsv\", sep='\\t')\n"
     ]
    }
   ],
   "source": [
    "# filter tv shows after 2000\n",
    "df = pd.read_csv(\"data/imdb/title_basic.tsv\", sep='\\t')\n",
    "filtered_df = df.loc[((df['titleType'] == 'tvSeries') |\n",
    "                     (df['titleType'] == 'tvMiniSeries')) &\n",
    "                     (df['isAdult'] == 0)\n",
    "                    ]\n",
    "filtered_df = filtered_df[filtered_df['startYear'].apply(lambda x: x.isdigit() and int(x) >= 2000)]"
   ]
  },
  {
   "cell_type": "code",
   "execution_count": 3,
   "id": "1fd82783",
   "metadata": {},
   "outputs": [],
   "source": [
    "# filter regional to US and GB and merge\n",
    "columns_to_load = ['titleId', 'language', 'region']\n",
    "df = pd.read_csv('data/imdb/title_akas.tsv', sep='\\t', usecols=columns_to_load)\n",
    "df_en = df[(df['region'] == 'US') | (df['region'] == 'GB')]\n",
    "merged_df = pd.merge(filtered_df, df_en, left_on='tconst', right_on='titleId')\n",
    "merged_df = merged_df.drop(['region', 'language', 'titleId'], axis=1)\n",
    "merged_df = merged_df.drop_duplicates()"
   ]
  },
  {
   "cell_type": "code",
   "execution_count": 6,
   "id": "4b393447",
   "metadata": {},
   "outputs": [
    {
     "name": "stdout",
     "output_type": "stream",
     "text": [
      "          tconst titleType primaryTitle originalTitle isAdult startYear  \\\n",
      "45795  tt9288030  tvSeries      Reacher       Reacher       0      2022   \n",
      "\n",
      "      endYear runtimeMinutes              genres  averageRating  numVotes  \n",
      "45795      \\N             49  Action,Crime,Drama            8.1    154886  \n"
     ]
    }
   ],
   "source": [
    "# filter shows with more than 10.000 ratings\n",
    "df_ratings = pd.read_csv('data/imdb/title_ratings.tsv', sep='\\t')\n",
    "merged_df = pd.merge(merged_df, df_ratings)\n",
    "df_ = merged_df[(merged_df['numVotes'] > 2000)]\n"
   ]
  },
  {
   "cell_type": "code",
   "execution_count": 5,
   "id": "0e92dc54",
   "metadata": {},
   "outputs": [],
   "source": [
    "df_.to_csv('data/imdb_data.csv', index=False)"
   ]
  }
 ],
 "metadata": {
  "kernelspec": {
   "display_name": "Python 3 (ipykernel)",
   "language": "python",
   "name": "python3"
  },
  "language_info": {
   "codemirror_mode": {
    "name": "ipython",
    "version": 3
   },
   "file_extension": ".py",
   "mimetype": "text/x-python",
   "name": "python",
   "nbconvert_exporter": "python",
   "pygments_lexer": "ipython3",
   "version": "3.11.4"
  }
 },
 "nbformat": 4,
 "nbformat_minor": 5
}
